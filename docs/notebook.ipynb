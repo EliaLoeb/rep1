{
 "cells": [
  {
   "cell_type": "code",
   "execution_count": null,
   "id": "8970f793",
   "metadata": {
    "vscode": {
     "languageId": "plaintext"
    }
   },
   "outputs": [],
   "source": [
    "import matplotlib.pyplot as plt\n",
    "\n",
    "leeftijdsgroepen = ['18–24', '25–29', '30–34', '35–39', '40+']\n",
    "winpercentages = [52.3, 58.7, 55.1, 49.6, 43.8]\n",
    "\n",
    "plt.figure(figsize=(8, 6))\n",
    "plt.bar(leeftijdsgroepen, winpercentages)\n",
    "\n",
    "plt.title('Winpercentage per Leeftijdsgroep in MMA')\n",
    "plt.xlabel('Leeftijdsgroep')\n",
    "plt.ylabel('Winpercentage (%)')\n",
    "plt.ylim(0, 100)\n",
    "\n",
    "# Waarden boven de balken tonen\n",
    "for i, pct in enumerate(winpercentages):\n",
    "    plt.text(i, pct + 1, f'{pct}%', ha='center')\n",
    "\n",
    "plt.tight_layout()\n",
    "plt.show()"
   ]
  }
 ],
 "metadata": {
  "language_info": {
   "name": "python"
  }
 },
 "nbformat": 4,
 "nbformat_minor": 5
}
