{
 "cells": [
  {
   "cell_type": "markdown",
   "id": "aacaf45a",
   "metadata": {},
   "source": [
    "dit is een terst vcode voor git.\n"
   ]
  }
 ],
 "metadata": {
  "language_info": {
   "name": "python"
  }
 },
 "nbformat": 4,
 "nbformat_minor": 5
}
